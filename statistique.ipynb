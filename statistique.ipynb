{
 "cells": [
  {
   "cell_type": "markdown",
   "id": "7c5d7a90",
   "metadata": {},
   "source": [
    "# Notebook pour faire des statistiques"
   ]
  },
  {
   "cell_type": "markdown",
   "id": "0c04523e",
   "metadata": {},
   "source": [
    "## Chargement des données"
   ]
  },
  {
   "cell_type": "code",
   "execution_count": 1,
   "id": "eba6269d",
   "metadata": {},
   "outputs": [],
   "source": [
    "import pandas\n",
    "import matplotlib"
   ]
  },
  {
   "cell_type": "code",
   "execution_count": 2,
   "id": "f0417d08",
   "metadata": {},
   "outputs": [],
   "source": [
    "historical = pandas.read_csv(\"data/historical.csv\")"
   ]
  },
  {
   "cell_type": "code",
   "execution_count": 5,
   "id": "a7120c27",
   "metadata": {},
   "outputs": [
    {
     "name": "stdout",
     "output_type": "stream",
     "text": [
      "         stop_id                  stop_name           trip_id arrival_time  \\\n",
      "0           2238  La Défense (Grande Arche)  1128309950655739     13:02:00   \n",
      "1           2238  La Défense (Grande Arche)  1128309950655739     13:02:00   \n",
      "2           2238  La Défense (Grande Arche)  1128309950655739     13:02:00   \n",
      "3           2238  La Défense (Grande Arche)  1128309950655739     13:02:00   \n",
      "4           2238  La Défense (Grande Arche)  1128309950655739     13:02:00   \n",
      "...          ...                        ...               ...          ...   \n",
      "1144659     2317          Le Vésinet-Centre  1529194000655719     05:23:00   \n",
      "1144660     2225             Chatou-Croissy  1529194000655719     05:20:00   \n",
      "1144661     2225             Chatou-Croissy  1529194000655719     05:20:00   \n",
      "1144662     2458            Rueil-Malmaison  1529194000655719     05:19:00   \n",
      "1144663     2458            Rueil-Malmaison  1529194000655719     05:19:00   \n",
      "\n",
      "        departure_time  stop_sequence  service_id trip_short_name  \\\n",
      "0             13:02:00             16     2830995            ZEUS   \n",
      "1             13:02:00             16     2830995            ZEUS   \n",
      "2             13:02:00             16     2830995            ZEUS   \n",
      "3             13:02:00             16     2830995            ZEUS   \n",
      "4             13:02:00             16     2830995            ZEUS   \n",
      "...                ...            ...         ...             ...   \n",
      "1144659       05:23:00              3     2919400            ZWIC   \n",
      "1144660       05:20:00              2     2919400            ZWIC   \n",
      "1144661       05:20:00              2     2919400            ZWIC   \n",
      "1144662       05:19:00              1     2919400            ZWIC   \n",
      "1144663       05:19:00              1     2919400            ZWIC   \n",
      "\n",
      "         direction_id      date  \n",
      "0                   1  20190921  \n",
      "1                   1  20190922  \n",
      "2                   1  20190928  \n",
      "3                   1  20190929  \n",
      "4                   1  20191005  \n",
      "...               ...       ...  \n",
      "1144659             1  20190505  \n",
      "1144660             1  20190504  \n",
      "1144661             1  20190505  \n",
      "1144662             1  20190504  \n",
      "1144663             1  20190505  \n",
      "\n",
      "[1144664 rows x 10 columns]\n"
     ]
    }
   ],
   "source": [
    "print(historical)"
   ]
  },
  {
   "cell_type": "code",
   "execution_count": 3,
   "id": "7aed448b",
   "metadata": {},
   "outputs": [
    {
     "data": {
      "text/plain": [
       "<AxesSubplot:xlabel='stop_id,date'>"
      ]
     },
     "execution_count": 3,
     "metadata": {},
     "output_type": "execute_result"
    },
    {
     "data": {
      "image/png": "[encoded data removed]",
      "text/plain": [
       "<Figure size 432x288 with 1 Axes>"
      ]
     },
     "metadata": {
      "needs_background": "light"
     },
     "output_type": "display_data"
    }
   ],
   "source": [
    "# nombre de passage par station par jour\n",
    "count_date = historical.filter(['stop_id', 'date']).value_counts()\n",
    "\n",
    "count_date.plot()"
   ]
  }
 ],
 "metadata": {
  "kernelspec": {
   "display_name": "Python 3",
   "language": "python",
   "name": "python3"
  },
  "language_info": {
   "codemirror_mode": {
    "name": "ipython",
    "version": 3
   },
   "file_extension": ".py",
   "mimetype": "text/x-python",
   "name": "python",
   "nbconvert_exporter": "python",
   "pygments_lexer": "ipython3",
   "version": "3.9.4"
  }
 },
 "nbformat": 4,
 "nbformat_minor": 5
}
