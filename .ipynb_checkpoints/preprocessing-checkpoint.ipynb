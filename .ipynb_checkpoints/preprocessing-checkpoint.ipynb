{
 "cells": [
  {
   "cell_type": "code",
   "execution_count": 33,
   "metadata": {},
   "outputs": [],
   "source": [
    "import pandas"
   ]
  },
  {
   "cell_type": "code",
   "execution_count": 55,
   "metadata": {},
   "outputs": [],
   "source": [
    "def datehour_to_hour(datehour) :\n",
    "    schedule = datehour%10000\n",
    "    hours = schedule//100\n",
    "    minutes = schedule%100\n",
    "    return hours+minutes/60\n",
    "\n",
    "def preprocessing(station_name) :\n",
    "    df = pandas.read_table(\"data/real_data_utile/RB_\"+station_name+\"_2020-05-18.csv\", sep=' ')\n",
    "    df['arrival_time'] = df['arrival_time'].apply(datehour_to_hour)\n",
    "    df['departure_time'] = df['departure_time'].apply(datehour_to_hour)\n",
    "    df = df.drop(['terminus1','terminus2','truc1', 'truc2'], axis=1)\n",
    "    return df"
   ]
  },
  {
   "cell_type": "code",
   "execution_count": null,
   "metadata": {},
   "outputs": [],
   "source": [
    "station_names = ['Antony', 'Chatelet', 'Lozere', 'Saint-Michel']"
   ]
  },
  {
   "cell_type": "code",
   "execution_count": 56,
   "metadata": {},
   "outputs": [],
   "source": [
    "list_df = []\n",
    "for station_name in station_names :\n",
    "    list_df.append(preprocessing(station_name))"
   ]
  },
  {
   "cell_type": "code",
   "execution_count": null,
   "metadata": {},
   "outputs": [],
   "source": [
    "Antony = preprocessing('Antony')"
   ]
  }
 ],
 "metadata": {
  "kernelspec": {
   "display_name": "Python 3",
   "language": "python",
   "name": "python3"
  },
  "language_info": {
   "codemirror_mode": {
    "name": "ipython",
    "version": 3
   },
   "file_extension": ".py",
   "mimetype": "text/x-python",
   "name": "python",
   "nbconvert_exporter": "python",
   "pygments_lexer": "ipython3",
   "version": "3.8.5"
  }
 },
 "nbformat": 4,
 "nbformat_minor": 4
}
