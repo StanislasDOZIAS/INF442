{
 "cells": [
  {
   "cell_type": "markdown",
   "id": "10086f33",
   "metadata": {},
   "source": [
    "# Notebook pour faire des statistiques"
   ]
  },
  {
   "cell_type": "markdown",
   "id": "dfdaefbf",
   "metadata": {},
   "source": [
    "## Chargement des données"
   ]
  },
  {
   "cell_type": "code",
   "execution_count": 13,
   "id": "c048a0a3",
   "metadata": {},
   "outputs": [
    {
     "ename": "ModuleNotFoundError",
     "evalue": "No module named 'matplotlib'",
     "output_type": "error",
     "traceback": [
      "\u001b[0;31m---------------------------------------------------------------------------\u001b[0m",
      "\u001b[0;31mModuleNotFoundError\u001b[0m                       Traceback (most recent call last)",
      "\u001b[0;32m<ipython-input-13-5659734dce51>\u001b[0m in \u001b[0;36m<module>\u001b[0;34m\u001b[0m\n\u001b[1;32m      1\u001b[0m \u001b[0;32mimport\u001b[0m \u001b[0mpandas\u001b[0m\u001b[0;34m\u001b[0m\u001b[0;34m\u001b[0m\u001b[0m\n\u001b[0;32m----> 2\u001b[0;31m \u001b[0;32mimport\u001b[0m \u001b[0mmatplotlib\u001b[0m\u001b[0;34m\u001b[0m\u001b[0;34m\u001b[0m\u001b[0m\n\u001b[0m",
      "\u001b[0;31mModuleNotFoundError\u001b[0m: No module named 'matplotlib'"
     ]
    }
   ],
   "source": [
    "import pandas\n",
    "import matplotlib"
   ]
  },
  {
   "cell_type": "code",
   "execution_count": 4,
   "id": "f82e765e",
   "metadata": {},
   "outputs": [],
   "source": [
    "historical = pandas.read_csv(\"data/historical.csv\")"
   ]
  },
  {
   "cell_type": "code",
   "execution_count": 5,
   "id": "455a952d",
   "metadata": {},
   "outputs": [
    {
     "name": "stdout",
     "output_type": "stream",
     "text": [
      "         stop_id                  stop_name           trip_id arrival_time  \\\n",
      "0           2238  La Défense (Grande Arche)  1128309950655739     13:02:00   \n",
      "1           2238  La Défense (Grande Arche)  1128309950655739     13:02:00   \n",
      "2           2238  La Défense (Grande Arche)  1128309950655739     13:02:00   \n",
      "3           2238  La Défense (Grande Arche)  1128309950655739     13:02:00   \n",
      "4           2238  La Défense (Grande Arche)  1128309950655739     13:02:00   \n",
      "...          ...                        ...               ...          ...   \n",
      "1144659     2317          Le Vésinet-Centre  1529194000655719     05:23:00   \n",
      "1144660     2225             Chatou-Croissy  1529194000655719     05:20:00   \n",
      "1144661     2225             Chatou-Croissy  1529194000655719     05:20:00   \n",
      "1144662     2458            Rueil-Malmaison  1529194000655719     05:19:00   \n",
      "1144663     2458            Rueil-Malmaison  1529194000655719     05:19:00   \n",
      "\n",
      "        departure_time  stop_sequence  service_id trip_short_name  \\\n",
      "0             13:02:00             16     2830995            ZEUS   \n",
      "1             13:02:00             16     2830995            ZEUS   \n",
      "2             13:02:00             16     2830995            ZEUS   \n",
      "3             13:02:00             16     2830995            ZEUS   \n",
      "4             13:02:00             16     2830995            ZEUS   \n",
      "...                ...            ...         ...             ...   \n",
      "1144659       05:23:00              3     2919400            ZWIC   \n",
      "1144660       05:20:00              2     2919400            ZWIC   \n",
      "1144661       05:20:00              2     2919400            ZWIC   \n",
      "1144662       05:19:00              1     2919400            ZWIC   \n",
      "1144663       05:19:00              1     2919400            ZWIC   \n",
      "\n",
      "         direction_id      date  \n",
      "0                   1  20190921  \n",
      "1                   1  20190922  \n",
      "2                   1  20190928  \n",
      "3                   1  20190929  \n",
      "4                   1  20191005  \n",
      "...               ...       ...  \n",
      "1144659             1  20190505  \n",
      "1144660             1  20190504  \n",
      "1144661             1  20190505  \n",
      "1144662             1  20190504  \n",
      "1144663             1  20190505  \n",
      "\n",
      "[1144664 rows x 10 columns]\n"
     ]
    }
   ],
   "source": [
    "print(historical)"
   ]
  },
  {
   "cell_type": "code",
   "execution_count": 12,
   "id": "bfc96604",
   "metadata": {},
   "outputs": [
    {
     "ename": "ImportError",
     "evalue": "matplotlib is required for plotting when the default backend \"matplotlib\" is selected.",
     "output_type": "error",
     "traceback": [
      "\u001b[0;31m---------------------------------------------------------------------------\u001b[0m",
      "\u001b[0;31mImportError\u001b[0m                               Traceback (most recent call last)",
      "\u001b[0;32m<ipython-input-12-b09f7f80828f>\u001b[0m in \u001b[0;36m<module>\u001b[0;34m\u001b[0m\n\u001b[1;32m      2\u001b[0m \u001b[0mcount_date\u001b[0m \u001b[0;34m=\u001b[0m \u001b[0mhistorical\u001b[0m\u001b[0;34m.\u001b[0m\u001b[0mfilter\u001b[0m\u001b[0;34m(\u001b[0m\u001b[0;34m[\u001b[0m\u001b[0;34m'stop_id'\u001b[0m\u001b[0;34m,\u001b[0m \u001b[0;34m'date'\u001b[0m\u001b[0;34m]\u001b[0m\u001b[0;34m)\u001b[0m\u001b[0;34m.\u001b[0m\u001b[0mvalue_counts\u001b[0m\u001b[0;34m(\u001b[0m\u001b[0;34m)\u001b[0m\u001b[0;34m\u001b[0m\u001b[0;34m\u001b[0m\u001b[0m\n\u001b[1;32m      3\u001b[0m \u001b[0;34m\u001b[0m\u001b[0m\n\u001b[0;32m----> 4\u001b[0;31m \u001b[0mcount_date\u001b[0m\u001b[0;34m.\u001b[0m\u001b[0mplot\u001b[0m\u001b[0;34m(\u001b[0m\u001b[0;34m)\u001b[0m\u001b[0;34m\u001b[0m\u001b[0;34m\u001b[0m\u001b[0m\n\u001b[0m",
      "\u001b[0;32m/mnt/Fichiers/Documents/polytechnique/2a/p3/inf442/INF442/projet442/lib/python3.9/site-packages/pandas/plotting/_core.py\u001b[0m in \u001b[0;36m__call__\u001b[0;34m(self, *args, **kwargs)\u001b[0m\n\u001b[1;32m    873\u001b[0m \u001b[0;34m\u001b[0m\u001b[0m\n\u001b[1;32m    874\u001b[0m     \u001b[0;32mdef\u001b[0m \u001b[0m__call__\u001b[0m\u001b[0;34m(\u001b[0m\u001b[0mself\u001b[0m\u001b[0;34m,\u001b[0m \u001b[0;34m*\u001b[0m\u001b[0margs\u001b[0m\u001b[0;34m,\u001b[0m \u001b[0;34m**\u001b[0m\u001b[0mkwargs\u001b[0m\u001b[0;34m)\u001b[0m\u001b[0;34m:\u001b[0m\u001b[0;34m\u001b[0m\u001b[0;34m\u001b[0m\u001b[0m\n\u001b[0;32m--> 875\u001b[0;31m         \u001b[0mplot_backend\u001b[0m \u001b[0;34m=\u001b[0m \u001b[0m_get_plot_backend\u001b[0m\u001b[0;34m(\u001b[0m\u001b[0mkwargs\u001b[0m\u001b[0;34m.\u001b[0m\u001b[0mpop\u001b[0m\u001b[0;34m(\u001b[0m\u001b[0;34m\"backend\"\u001b[0m\u001b[0;34m,\u001b[0m \u001b[0;32mNone\u001b[0m\u001b[0;34m)\u001b[0m\u001b[0;34m)\u001b[0m\u001b[0;34m\u001b[0m\u001b[0;34m\u001b[0m\u001b[0m\n\u001b[0m\u001b[1;32m    876\u001b[0m \u001b[0;34m\u001b[0m\u001b[0m\n\u001b[1;32m    877\u001b[0m         x, y, kind, kwargs = self._get_call_args(\n",
      "\u001b[0;32m/mnt/Fichiers/Documents/polytechnique/2a/p3/inf442/INF442/projet442/lib/python3.9/site-packages/pandas/plotting/_core.py\u001b[0m in \u001b[0;36m_get_plot_backend\u001b[0;34m(backend)\u001b[0m\n\u001b[1;32m   1784\u001b[0m             \u001b[0;32mimport\u001b[0m \u001b[0mpandas\u001b[0m\u001b[0;34m.\u001b[0m\u001b[0mplotting\u001b[0m\u001b[0;34m.\u001b[0m\u001b[0m_matplotlib\u001b[0m \u001b[0;32mas\u001b[0m \u001b[0mmodule\u001b[0m\u001b[0;34m\u001b[0m\u001b[0;34m\u001b[0m\u001b[0m\n\u001b[1;32m   1785\u001b[0m         \u001b[0;32mexcept\u001b[0m \u001b[0mImportError\u001b[0m\u001b[0;34m:\u001b[0m\u001b[0;34m\u001b[0m\u001b[0;34m\u001b[0m\u001b[0m\n\u001b[0;32m-> 1786\u001b[0;31m             raise ImportError(\n\u001b[0m\u001b[1;32m   1787\u001b[0m                 \u001b[0;34m\"matplotlib is required for plotting when the \"\u001b[0m\u001b[0;34m\u001b[0m\u001b[0;34m\u001b[0m\u001b[0m\n\u001b[1;32m   1788\u001b[0m                 \u001b[0;34m'default backend \"matplotlib\" is selected.'\u001b[0m\u001b[0;34m\u001b[0m\u001b[0;34m\u001b[0m\u001b[0m\n",
      "\u001b[0;31mImportError\u001b[0m: matplotlib is required for plotting when the default backend \"matplotlib\" is selected."
     ]
    }
   ],
   "source": [
    "# nombre de passage par station par jour\n",
    "count_date = historical.filter(['stop_id', 'date']).value_counts()\n",
    "\n",
    "count_date.plot()"
   ]
  }
 ],
 "metadata": {
  "kernelspec": {
   "display_name": "Python 3",
   "language": "python",
   "name": "python3"
  },
  "language_info": {
   "codemirror_mode": {
    "name": "ipython",
    "version": 3
   },
   "file_extension": ".py",
   "mimetype": "text/x-python",
   "name": "python",
   "nbconvert_exporter": "python",
   "pygments_lexer": "ipython3",
   "version": "3.9.4"
  }
 },
 "nbformat": 4,
 "nbformat_minor": 5
}
