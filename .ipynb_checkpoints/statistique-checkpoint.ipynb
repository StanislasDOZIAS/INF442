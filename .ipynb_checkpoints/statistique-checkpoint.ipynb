{
 "cells": [
  {
   "cell_type": "markdown",
   "metadata": {},
   "source": [
    "# Notebook pour faire des statistiques"
   ]
  },
  {
   "cell_type": "markdown",
   "metadata": {},
   "source": [
    "## Chargement des données"
   ]
  },
  {
   "cell_type": "code",
   "execution_count": 14,
   "metadata": {},
   "outputs": [],
   "source": [
    "import pandas\n",
    "import matplotlib\n",
    "import seaborn as sns"
   ]
  },
  {
   "cell_type": "code",
   "execution_count": 15,
   "metadata": {},
   "outputs": [],
   "source": [
    "historical = pandas.read_csv(\"data/historical.csv\")"
   ]
  },
  {
   "cell_type": "code",
   "execution_count": 16,
   "metadata": {},
   "outputs": [
    {
     "data": {
      "text/html": [
       "<div>\n",
       "<style scoped>\n",
       "    .dataframe tbody tr th:only-of-type {\n",
       "        vertical-align: middle;\n",
       "    }\n",
       "\n",
       "    .dataframe tbody tr th {\n",
       "        vertical-align: top;\n",
       "    }\n",
       "\n",
       "    .dataframe thead th {\n",
       "        text-align: right;\n",
       "    }\n",
       "</style>\n",
       "<table border=\"1\" class=\"dataframe\">\n",
       "  <thead>\n",
       "    <tr style=\"text-align: right;\">\n",
       "      <th></th>\n",
       "      <th>stop_id</th>\n",
       "      <th>stop_name</th>\n",
       "      <th>trip_id</th>\n",
       "      <th>arrival_time</th>\n",
       "      <th>departure_time</th>\n",
       "      <th>stop_sequence</th>\n",
       "      <th>service_id</th>\n",
       "      <th>trip_short_name</th>\n",
       "      <th>direction_id</th>\n",
       "      <th>date</th>\n",
       "    </tr>\n",
       "  </thead>\n",
       "  <tbody>\n",
       "    <tr>\n",
       "      <th>0</th>\n",
       "      <td>2238</td>\n",
       "      <td>La Défense (Grande Arche)</td>\n",
       "      <td>1128309950655739</td>\n",
       "      <td>13:02:00</td>\n",
       "      <td>13:02:00</td>\n",
       "      <td>16</td>\n",
       "      <td>2830995</td>\n",
       "      <td>ZEUS</td>\n",
       "      <td>1</td>\n",
       "      <td>20190921</td>\n",
       "    </tr>\n",
       "    <tr>\n",
       "      <th>1</th>\n",
       "      <td>2238</td>\n",
       "      <td>La Défense (Grande Arche)</td>\n",
       "      <td>1128309950655739</td>\n",
       "      <td>13:02:00</td>\n",
       "      <td>13:02:00</td>\n",
       "      <td>16</td>\n",
       "      <td>2830995</td>\n",
       "      <td>ZEUS</td>\n",
       "      <td>1</td>\n",
       "      <td>20190922</td>\n",
       "    </tr>\n",
       "    <tr>\n",
       "      <th>2</th>\n",
       "      <td>2238</td>\n",
       "      <td>La Défense (Grande Arche)</td>\n",
       "      <td>1128309950655739</td>\n",
       "      <td>13:02:00</td>\n",
       "      <td>13:02:00</td>\n",
       "      <td>16</td>\n",
       "      <td>2830995</td>\n",
       "      <td>ZEUS</td>\n",
       "      <td>1</td>\n",
       "      <td>20190928</td>\n",
       "    </tr>\n",
       "    <tr>\n",
       "      <th>3</th>\n",
       "      <td>2238</td>\n",
       "      <td>La Défense (Grande Arche)</td>\n",
       "      <td>1128309950655739</td>\n",
       "      <td>13:02:00</td>\n",
       "      <td>13:02:00</td>\n",
       "      <td>16</td>\n",
       "      <td>2830995</td>\n",
       "      <td>ZEUS</td>\n",
       "      <td>1</td>\n",
       "      <td>20190929</td>\n",
       "    </tr>\n",
       "    <tr>\n",
       "      <th>4</th>\n",
       "      <td>2238</td>\n",
       "      <td>La Défense (Grande Arche)</td>\n",
       "      <td>1128309950655739</td>\n",
       "      <td>13:02:00</td>\n",
       "      <td>13:02:00</td>\n",
       "      <td>16</td>\n",
       "      <td>2830995</td>\n",
       "      <td>ZEUS</td>\n",
       "      <td>1</td>\n",
       "      <td>20191005</td>\n",
       "    </tr>\n",
       "  </tbody>\n",
       "</table>\n",
       "</div>"
      ],
      "text/plain": [
       "   stop_id                  stop_name           trip_id arrival_time  \\\n",
       "0     2238  La Défense (Grande Arche)  1128309950655739     13:02:00   \n",
       "1     2238  La Défense (Grande Arche)  1128309950655739     13:02:00   \n",
       "2     2238  La Défense (Grande Arche)  1128309950655739     13:02:00   \n",
       "3     2238  La Défense (Grande Arche)  1128309950655739     13:02:00   \n",
       "4     2238  La Défense (Grande Arche)  1128309950655739     13:02:00   \n",
       "\n",
       "  departure_time  stop_sequence  service_id trip_short_name  direction_id  \\\n",
       "0       13:02:00             16     2830995            ZEUS             1   \n",
       "1       13:02:00             16     2830995            ZEUS             1   \n",
       "2       13:02:00             16     2830995            ZEUS             1   \n",
       "3       13:02:00             16     2830995            ZEUS             1   \n",
       "4       13:02:00             16     2830995            ZEUS             1   \n",
       "\n",
       "       date  \n",
       "0  20190921  \n",
       "1  20190922  \n",
       "2  20190928  \n",
       "3  20190929  \n",
       "4  20191005  "
      ]
     },
     "execution_count": 16,
     "metadata": {},
     "output_type": "execute_result"
    }
   ],
   "source": [
    "historical.head()"
   ]
  },
  {
   "cell_type": "code",
   "execution_count": 17,
   "metadata": {},
   "outputs": [],
   "source": [
    "def str_to_hour(string) :\n",
    "    hour = int(string[0:2])\n",
    "    minute = int(string[3:5])\n",
    "    seconds = int(string[6:8])\n",
    "    return hour+minute/60+seconds/3600"
   ]
  },
  {
   "cell_type": "code",
   "execution_count": 18,
   "metadata": {},
   "outputs": [],
   "source": [
    "def date_to_date(date) :\n",
    "    year = date//10000\n",
    "    month = (date-year*10000)//100\n",
    "    day = date-year*10000-month*100\n",
    "    return month*30+day"
   ]
  },
  {
   "cell_type": "code",
   "execution_count": 19,
   "metadata": {},
   "outputs": [],
   "source": [
    "historical['arrival_time']=historical['arrival_time'].apply(str_to_hour)"
   ]
  },
  {
   "cell_type": "code",
   "execution_count": 20,
   "metadata": {},
   "outputs": [],
   "source": [
    "historical['departure_time']=historical['departure_time'].apply(str_to_hour)"
   ]
  },
  {
   "cell_type": "code",
   "execution_count": 21,
   "metadata": {},
   "outputs": [],
   "source": [
    "historical['date']=historical['date'].apply(date_to_date)"
   ]
  },
  {
   "cell_type": "code",
   "execution_count": 22,
   "metadata": {},
   "outputs": [
    {
     "data": {
      "text/html": [
       "<div>\n",
       "<style scoped>\n",
       "    .dataframe tbody tr th:only-of-type {\n",
       "        vertical-align: middle;\n",
       "    }\n",
       "\n",
       "    .dataframe tbody tr th {\n",
       "        vertical-align: top;\n",
       "    }\n",
       "\n",
       "    .dataframe thead th {\n",
       "        text-align: right;\n",
       "    }\n",
       "</style>\n",
       "<table border=\"1\" class=\"dataframe\">\n",
       "  <thead>\n",
       "    <tr style=\"text-align: right;\">\n",
       "      <th></th>\n",
       "      <th>stop_id</th>\n",
       "      <th>stop_name</th>\n",
       "      <th>trip_id</th>\n",
       "      <th>arrival_time</th>\n",
       "      <th>departure_time</th>\n",
       "      <th>stop_sequence</th>\n",
       "      <th>service_id</th>\n",
       "      <th>trip_short_name</th>\n",
       "      <th>direction_id</th>\n",
       "      <th>date</th>\n",
       "    </tr>\n",
       "  </thead>\n",
       "  <tbody>\n",
       "    <tr>\n",
       "      <th>0</th>\n",
       "      <td>2238</td>\n",
       "      <td>La Défense (Grande Arche)</td>\n",
       "      <td>1128309950655739</td>\n",
       "      <td>13.033333</td>\n",
       "      <td>13.033333</td>\n",
       "      <td>16</td>\n",
       "      <td>2830995</td>\n",
       "      <td>ZEUS</td>\n",
       "      <td>1</td>\n",
       "      <td>291</td>\n",
       "    </tr>\n",
       "    <tr>\n",
       "      <th>1</th>\n",
       "      <td>2238</td>\n",
       "      <td>La Défense (Grande Arche)</td>\n",
       "      <td>1128309950655739</td>\n",
       "      <td>13.033333</td>\n",
       "      <td>13.033333</td>\n",
       "      <td>16</td>\n",
       "      <td>2830995</td>\n",
       "      <td>ZEUS</td>\n",
       "      <td>1</td>\n",
       "      <td>292</td>\n",
       "    </tr>\n",
       "    <tr>\n",
       "      <th>2</th>\n",
       "      <td>2238</td>\n",
       "      <td>La Défense (Grande Arche)</td>\n",
       "      <td>1128309950655739</td>\n",
       "      <td>13.033333</td>\n",
       "      <td>13.033333</td>\n",
       "      <td>16</td>\n",
       "      <td>2830995</td>\n",
       "      <td>ZEUS</td>\n",
       "      <td>1</td>\n",
       "      <td>298</td>\n",
       "    </tr>\n",
       "    <tr>\n",
       "      <th>3</th>\n",
       "      <td>2238</td>\n",
       "      <td>La Défense (Grande Arche)</td>\n",
       "      <td>1128309950655739</td>\n",
       "      <td>13.033333</td>\n",
       "      <td>13.033333</td>\n",
       "      <td>16</td>\n",
       "      <td>2830995</td>\n",
       "      <td>ZEUS</td>\n",
       "      <td>1</td>\n",
       "      <td>299</td>\n",
       "    </tr>\n",
       "    <tr>\n",
       "      <th>4</th>\n",
       "      <td>2238</td>\n",
       "      <td>La Défense (Grande Arche)</td>\n",
       "      <td>1128309950655739</td>\n",
       "      <td>13.033333</td>\n",
       "      <td>13.033333</td>\n",
       "      <td>16</td>\n",
       "      <td>2830995</td>\n",
       "      <td>ZEUS</td>\n",
       "      <td>1</td>\n",
       "      <td>305</td>\n",
       "    </tr>\n",
       "  </tbody>\n",
       "</table>\n",
       "</div>"
      ],
      "text/plain": [
       "   stop_id                  stop_name           trip_id  arrival_time  \\\n",
       "0     2238  La Défense (Grande Arche)  1128309950655739     13.033333   \n",
       "1     2238  La Défense (Grande Arche)  1128309950655739     13.033333   \n",
       "2     2238  La Défense (Grande Arche)  1128309950655739     13.033333   \n",
       "3     2238  La Défense (Grande Arche)  1128309950655739     13.033333   \n",
       "4     2238  La Défense (Grande Arche)  1128309950655739     13.033333   \n",
       "\n",
       "   departure_time  stop_sequence  service_id trip_short_name  direction_id  \\\n",
       "0       13.033333             16     2830995            ZEUS             1   \n",
       "1       13.033333             16     2830995            ZEUS             1   \n",
       "2       13.033333             16     2830995            ZEUS             1   \n",
       "3       13.033333             16     2830995            ZEUS             1   \n",
       "4       13.033333             16     2830995            ZEUS             1   \n",
       "\n",
       "   date  \n",
       "0   291  \n",
       "1   292  \n",
       "2   298  \n",
       "3   299  \n",
       "4   305  "
      ]
     },
     "execution_count": 22,
     "metadata": {},
     "output_type": "execute_result"
    }
   ],
   "source": [
    "historical.head()"
   ]
  },
  {
   "cell_type": "code",
   "execution_count": 24,
   "metadata": {},
   "outputs": [
    {
     "data": {
      "text/plain": [
       "count    1144664.0\n",
       "mean           0.0\n",
       "std            0.0\n",
       "min            0.0\n",
       "25%            0.0\n",
       "50%            0.0\n",
       "75%            0.0\n",
       "max            0.0\n",
       "dtype: float64"
      ]
     },
     "execution_count": 24,
     "metadata": {},
     "output_type": "execute_result"
    }
   ],
   "source": [
    "(historical['arrival_time']-historical['departure_time']).describe()"
   ]
  },
  {
   "cell_type": "code",
   "execution_count": 25,
   "metadata": {},
   "outputs": [
    {
     "name": "stderr",
     "output_type": "stream",
     "text": [
      "C:\\Users\\stani\\anaconda3\\lib\\site-packages\\seaborn\\distributions.py:2551: FutureWarning: `distplot` is a deprecated function and will be removed in a future version. Please adapt your code to use either `displot` (a figure-level function with similar flexibility) or `histplot` (an axes-level function for histograms).\n",
      "  warnings.warn(msg, FutureWarning)\n"
     ]
    },
    {
     "data": {
      "text/plain": [
       "<AxesSubplot:xlabel='date', ylabel='Density'>"
      ]
     },
     "execution_count": 25,
     "metadata": {},
     "output_type": "execute_result"
    },
    {
     "data": {
      "image/png": "[encoded data removed]",
      "text/plain": [
       "<Figure size 432x288 with 1 Axes>"
      ]
     },
     "metadata": {
      "needs_background": "light"
     },
     "output_type": "display_data"
    }
   ],
   "source": [
    "sns.distplot(historical['date'])"
   ]
  },
  {
   "cell_type": "markdown",
   "metadata": {},
   "source": [
    "    - arrival_time = departure_time\n",
    "    - dates wierd (holes)\n",
    "    - we don't have the prediction of the RATP, just the trues passages of the trains/bus"
   ]
  }
 ],
 "metadata": {
  "kernelspec": {
   "display_name": "Python 3",
   "language": "python",
   "name": "python3"
  },
  "language_info": {
   "codemirror_mode": {
    "name": "ipython",
    "version": 3
   },
   "file_extension": ".py",
   "mimetype": "text/x-python",
   "name": "python",
   "nbconvert_exporter": "python",
   "pygments_lexer": "ipython3",
   "version": "3.8.5"
  }
 },
 "nbformat": 4,
 "nbformat_minor": 5
}
